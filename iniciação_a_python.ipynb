{
  "nbformat": 4,
  "nbformat_minor": 0,
  "metadata": {
    "colab": {
      "provenance": [],
      "authorship_tag": "ABX9TyOQRxYIgkm9x1JymCRXhejj",
      "include_colab_link": true
    },
    "kernelspec": {
      "name": "python3",
      "display_name": "Python 3"
    },
    "language_info": {
      "name": "python"
    }
  },
  "cells": [
    {
      "cell_type": "markdown",
      "metadata": {
        "id": "view-in-github",
        "colab_type": "text"
      },
      "source": [
        "<a href=\"https://colab.research.google.com/github/kakautorrado/repositorio_teste/blob/main/inicia%C3%A7%C3%A3o_a_python.ipynb\" target=\"_parent\"><img src=\"https://colab.research.google.com/assets/colab-badge.svg\" alt=\"Open In Colab\"/></a>"
      ]
    },
    {
      "cell_type": "markdown",
      "source": [
        "## Aula 1"
      ],
      "metadata": {
        "id": "6aa-vhX58O_6"
      }
    },
    {
      "cell_type": "code",
      "execution_count": null,
      "metadata": {
        "colab": {
          "base_uri": "https://localhost:8080/"
        },
        "id": "bin6rHwl2R7v",
        "outputId": "5b66e919-5a9c-4068-d6c4-a9e04595f585"
      },
      "outputs": [
        {
          "output_type": "stream",
          "name": "stdout",
          "text": [
            "I Competição de Programação da Start\n"
          ]
        }
      ],
      "source": [
        "print(\"I Competição de Programação da Start\")"
      ]
    },
    {
      "cell_type": "code",
      "source": [
        "ano = \"II\"\n",
        "print(ano, \"Competição de Programação da Start\")"
      ],
      "metadata": {
        "colab": {
          "base_uri": "https://localhost:8080/"
        },
        "id": "VO2mGf-e6Bvo",
        "outputId": "79c7a2be-8b08-4287-cf80-668e312209e2"
      },
      "execution_count": null,
      "outputs": [
        {
          "output_type": "stream",
          "name": "stdout",
          "text": [
            "II Competição de Programação da Start\n"
          ]
        }
      ]
    },
    {
      "cell_type": "code",
      "source": [
        "print(f\"{ano} Competição de Programação da Start\")"
      ],
      "metadata": {
        "colab": {
          "base_uri": "https://localhost:8080/"
        },
        "id": "xlU44Npw7gt4",
        "outputId": "28a6b1c0-51a0-4a12-ef01-a2f020d93347"
      },
      "execution_count": null,
      "outputs": [
        {
          "output_type": "stream",
          "name": "stdout",
          "text": [
            "II Competição de Programação da Start\n"
          ]
        }
      ]
    },
    {
      "cell_type": "markdown",
      "source": [
        "## Aula 2"
      ],
      "metadata": {
        "id": "R3nsnjgPYJS5"
      }
    },
    {
      "cell_type": "markdown",
      "source": [
        "Contexto:\n",
        "Uma escola está promovendo uma campanha de incentivo à leitura, em que cada estudante recebe pontos ao concluir livros. Esses pontos podem ser trocados por diferentes premios da escola. As categorias de livros têm valores de pontos diferentes:\n",
        "Livro de ficção: 10 pontos\n",
        "Livro de não-ficção: 8 pontos\n",
        "Livro infantil: 6 pontos\n",
        "Problema:\n",
        "Rodrigo leu um livro de cada categoria. Agora ele quer saber quantos pontos acumulou com sua leitura.\n",
        "Nosso objetivo é criar um programa em Python que:\n",
        "Armazene a pontuação de cada categoria de livro em uma variável.\n",
        "Calcule o total de pontos acumulados por Rodrigo.\n",
        "Mostre na tela o total de pontos acumulados por Rodrigo."
      ],
      "metadata": {
        "id": "rNJ0-Bf4YiGD"
      }
    },
    {
      "cell_type": "code",
      "source": [
        "livro_ficcao = 10\n",
        "livro_nficcao = 8\n",
        "livro_infantil = 6\n",
        "\n",
        "pontos_rodrigo = livro_ficcao + livro_nficcao + livro_infantil\n",
        "\n",
        "print(f\"Os pontos totais do Rodrigo são: {pontos_rodrigo}\")"
      ],
      "metadata": {
        "colab": {
          "base_uri": "https://localhost:8080/"
        },
        "id": "y2xhQ3Iz6rJJ",
        "outputId": "5e5bc0db-a1bf-4764-ff35-829ab2afb7f9"
      },
      "execution_count": 5,
      "outputs": [
        {
          "output_type": "stream",
          "name": "stdout",
          "text": [
            "Os pontos totais do Rodrigo são: 24\n"
          ]
        }
      ]
    },
    {
      "cell_type": "markdown",
      "source": [
        "Ana também participou da campanha e leu 2 livros de ficção e 5 livros infantis.\n",
        "\n",
        "Como podemos calcular o total de pontos de Ana? Será que é possível calcular o total de pontos acumulados por Rodrigo e Ana juntos?"
      ],
      "metadata": {
        "id": "EAAk1rHa9QVw"
      }
    },
    {
      "cell_type": "markdown",
      "source": [
        "## Aula 3"
      ],
      "metadata": {
        "id": "TeuzZ5H49xAI"
      }
    },
    {
      "cell_type": "markdown",
      "source": [
        "Divisão do tesouro: https://olimpiada.ic.unicamp.br/passadas/OBI2020/fase1/programacao-b/\n",
        "\n",
        "A turma do 2º ano encontrou um envelope cheio de figurinhas. Para garantir uma divisão justa, todos concordaram com a sugestão de João, o dono do envelope:\n",
        "\n",
        "Cada amigo, exceto João, deve receber exatamente o mesmo número de figurinhas. João deve receber o dobro da quantidade que cada amigo recebe. Pode ser que o fato de João ser o dono do envelope tenha ajudado a convencer os amigos, mas também contribuiu o fato de que, do jeito proposto, a divisão era exata, sem sobrar nem faltar figurinhas.\n",
        "\n",
        "Problema:\n",
        "\n",
        "Crie um programa que determine a quantidade de figurinhas que João recebeu, dado o número total de figurinhas no envelope e o número de amigos de João.\n",
        "\n",
        "Entrada:\n",
        "\n",
        "A primeira linha contém um número inteiro total_figurinhas, que representa o\n",
        "\n",
        "*   \n",
        "*   Item da lista\n",
        "\n",
        "número de figurinhas no envelope.\n",
        "A segunda linha contém um número inteiro numero_amigos, que representa a quantidade de amigos de João (excluindo o próprio João)."
      ],
      "metadata": {
        "id": "pvecvEkR99c1"
      }
    },
    {
      "cell_type": "markdown",
      "source": [
        "Divisão do tesouro: https://olimpiada.ic.unicamp.br/passadas/OBI2020/fase1/programacao-b/\n",
        "\n",
        "A turma do 2º ano encontrou um envelope cheio de figurinhas. Para garantir uma divisão justa, todos concordaram com a sugestão de João, o dono do envelope:\n",
        "\n",
        "Cada amigo, exceto João, deve receber exatamente o mesmo número de figurinhas. João deve receber o dobro da quantidade que cada amigo recebe. Pode ser que o fato de João ser o dono do envelope tenha ajudado a convencer os amigos, mas também contribuiu o fato de que, do jeito proposto, a divisão era exata, sem sobrar nem faltar figurinhas.\n",
        "\n",
        "Problema:\n",
        "\n",
        "Crie um programa que determine a quantidade de figurinhas que João recebeu, dado o número total de figurinhas no envelope e o número de amigos de João.\n",
        "\n",
        "Entrada:\n",
        "\n",
        "*  A primeira linha contém um número inteiro total_figurinhas, que representa o número de figurinhas no envelope.\n",
        "*   A segunda linha contém um número inteiro numero_amigos, que representa a quantidade de amigos de João (excluindo o próprio João).\n",
        "\n"
      ],
      "metadata": {
        "id": "nk7m54p9-ho-"
      }
    },
    {
      "cell_type": "code",
      "source": [
        "total_figurinhas = int(input())\n",
        "numero_amigos = int(input())"
      ],
      "metadata": {
        "id": "frhE4b_O_Qi7"
      },
      "execution_count": null,
      "outputs": []
    }
  ]
}